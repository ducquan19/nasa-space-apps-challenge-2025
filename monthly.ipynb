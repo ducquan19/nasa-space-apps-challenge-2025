{
 "cells": [
  {
   "cell_type": "code",
   "execution_count": 1,
   "id": "ecfa7b91",
   "metadata": {},
   "outputs": [],
   "source": [
    "from core.thresholds import PARAM_THRESHOLDS"
   ]
  },
  {
   "cell_type": "code",
   "execution_count": 2,
   "id": "94f5de09",
   "metadata": {},
   "outputs": [],
   "source": [
    "import asyncio\n",
    "from datetime import datetime, timedelta\n",
    "from typing import List, Any, Dict\n",
    "\n",
    "import aiohttp\n",
    "import pandas as pd\n",
    "import numpy as np\n",
    "\n",
    "async def fetch_monthly_data_from_power_dav(\n",
    "    session: aiohttp.ClientSession,\n",
    "    latitude: float,\n",
    "    longitude: float,\n",
    "    start_year: str,\n",
    "    end_year: str,\n",
    "    parameters: List[str]\n",
    ") -> Dict[str, Any]:\n",
    "    url = (\n",
    "        \"https://power.larc.nasa.gov/api/temporal/monthly/point\"\n",
    "        f\"?start={start_year}&end={end_year}&latitude={latitude}&longitude={longitude}\"\n",
    "        f\"&parameters={','.join(parameters)}&format=JSON&community=RE\"\n",
    "    )\n",
    "    async with session.get(url) as resp:\n",
    "        resp.raise_for_status()\n",
    "        js = await resp.json()\n",
    "        return js[\"properties\"][\"parameter\"]\n",
    "\n",
    "async def get_monthly_data_async(target_date: datetime, latitude, longitude, params, window=0, years_back=5):\n",
    "    dfs = []\n",
    "    async with aiohttp.ClientSession() as session:\n",
    "        tasks = []\n",
    "        for i in range(1, years_back+1):\n",
    "            past_year = target_date.year - i\n",
    "            start = (target_date.replace(year=past_year) - timedelta(days=window)).strftime(\"%Y\")\n",
    "            end = (target_date.replace(year=past_year) + timedelta(days=window)).strftime(\"%Y\")\n",
    "            tasks.append(fetch_monthly_data_from_power_dav(session, latitude, longitude, start, end, params))\n",
    "        results = await asyncio.gather(*tasks)\n",
    "\n",
    "    # convert to dataframe list\n",
    "    for i, r in enumerate(results, 1):\n",
    "        past_year = target_date.year - i\n",
    "        for p in params:\n",
    "            del r[p][f\"{past_year}13\"]\n",
    "        df = pd.DataFrame({p: pd.Series(r[p]) for p in params})\n",
    "        df.index = pd.to_datetime(df.index, format=\"%Y%m\")\n",
    "        df[\"year\"] = past_year\n",
    "        df[\"month\"] = df.index.month\n",
    "        dfs.append(df)\n",
    "\n",
    "    full_df = pd.concat(dfs, axis=0)\n",
    "    return full_df.reset_index(drop=True)\n",
    "\n",
    "# Create monthly averages\n",
    "def make_hourly_yearly_avg_df(raw_df, params):\n",
    "    avg_df = raw_df.groupby([\"month\"])[params].mean().reset_index()\n",
    "    return avg_df\n",
    "\n",
    "# Example usage\n",
    "params = [\"T2M\",\"RH2M\",\"PRECTOTCORR\",\"ALLSKY_SFC_SW_DWN\",\"WS2M\"]\n",
    "target_date = datetime(2025,10,2,12)\n",
    "\n",
    "raw_df = await get_monthly_data_async(target_date, 10.75, 106.67, params)\n",
    "avg_df = make_hourly_yearly_avg_df(raw_df, params)"
   ]
  },
  {
   "cell_type": "code",
   "execution_count": 4,
   "id": "6738eff7",
   "metadata": {},
   "outputs": [
    {
     "data": {
      "application/vnd.plotly.v1+json": {
       "config": {
        "plotlyServerURL": "https://plot.ly"
       },
       "data": [
        {
         "hovertemplate": "Time: %{x}<br>T2M: %{y:.2f}<extra></extra>",
         "line": {
          "color": "black",
          "width": 2
         },
         "mode": "lines+markers",
         "name": "Mean",
         "type": "scatter",
         "x": [
          1,
          2,
          3,
          4,
          5,
          6,
          7,
          8,
          9,
          10,
          11,
          12
         ],
         "y": [
          25.994,
          28.062,
          29.974,
          30.762,
          29.639999999999997,
          27.516000000000002,
          26.951999999999998,
          27.032,
          26.68,
          26.577999999999996,
          26.577999999999996,
          25.394
         ]
        },
        {
         "marker": {
          "color": "rgb(93,133,198)",
          "size": 10
         },
         "mode": "markers",
         "name": "Very cold",
         "type": "scatter",
         "x": [
          null
         ],
         "y": [
          null
         ]
        },
        {
         "marker": {
          "color": "rgb(128,147,24)",
          "size": 10
         },
         "mode": "markers",
         "name": "Cold",
         "type": "scatter",
         "x": [
          null
         ],
         "y": [
          null
         ]
        },
        {
         "marker": {
          "color": "rgb(243,183,4)",
          "size": 10
         },
         "mode": "markers",
         "name": "Cool",
         "type": "scatter",
         "x": [
          null
         ],
         "y": [
          null
         ]
        },
        {
         "marker": {
          "color": "rgb(232,83,25)",
          "size": 10
         },
         "mode": "markers",
         "name": "Hot",
         "type": "scatter",
         "x": [
          null
         ],
         "y": [
          null
         ]
        },
        {
         "marker": {
          "color": "rgb(71,14,0)",
          "size": 10
         },
         "mode": "markers",
         "name": "Very hot",
         "type": "scatter",
         "x": [
          null
         ],
         "y": [
          null
         ]
        },
        {
         "hovertemplate": "Time: %{x}<br>T2M: %{y:.2f}<extra></extra>",
         "marker": {
          "color": "red",
          "size": 10,
          "symbol": "circle"
         },
         "mode": "markers",
         "name": "Max",
         "type": "scatter",
         "x": {
          "bdata": "BAAAAAgAAAA=",
          "dtype": "i4"
         },
         "y": {
          "bdata": "UI2XbhLDPkDVeOkmMQg7QA==",
          "dtype": "f8"
         }
        },
        {
         "hovertemplate": "Time: %{x}<br>T2M: %{y:.2f}<extra></extra>",
         "marker": {
          "color": "blue",
          "size": 10,
          "symbol": "circle"
         },
         "mode": "markers",
         "name": "Min",
         "type": "scatter",
         "x": {
          "bdata": "BwAAAA==",
          "dtype": "i4"
         },
         "y": {
          "bdata": "wMqhRbbzOkA=",
          "dtype": "f8"
         }
        }
       ],
       "layout": {
        "annotations": [
         {
          "font": {
           "color": "black",
           "size": 12,
           "weight": "bold"
          },
          "showarrow": false,
          "text": "Cool",
          "x": 1,
          "xanchor": "left",
          "xref": "x",
          "y": 1,
          "yanchor": "top",
          "yref": "y domain"
         },
         {
          "font": {
           "color": "black",
           "size": 12,
           "weight": "bold"
          },
          "showarrow": false,
          "text": "Hot",
          "x": 2,
          "xanchor": "left",
          "xref": "x",
          "y": 1,
          "yanchor": "top",
          "yref": "y domain"
         },
         {
          "font": {
           "color": "black",
           "size": 12,
           "weight": "bold"
          },
          "showarrow": false,
          "text": "Cool",
          "x": 6,
          "xanchor": "left",
          "xref": "x",
          "y": 1,
          "yanchor": "top",
          "yref": "y domain"
         },
         {
          "font": {
           "color": "black",
           "size": 12,
           "style": "normal",
           "weight": "bold"
          },
          "showarrow": false,
          "text": "Current month",
          "x": 10,
          "xanchor": "center",
          "xref": "x",
          "y": 1,
          "yanchor": "bottom",
          "yref": "y domain"
         }
        ],
        "shapes": [
         {
          "fillcolor": "rgb(243,183,4)",
          "layer": "below",
          "line": {
           "width": 0
          },
          "opacity": 0.3,
          "type": "rect",
          "x0": 1,
          "x1": 2,
          "xref": "x",
          "y0": 0,
          "y1": 1,
          "yref": "y domain"
         },
         {
          "fillcolor": "rgb(232,83,25)",
          "layer": "below",
          "line": {
           "width": 0
          },
          "opacity": 0.3,
          "type": "rect",
          "x0": 2,
          "x1": 6,
          "xref": "x",
          "y0": 0,
          "y1": 1,
          "yref": "y domain"
         },
         {
          "fillcolor": "rgb(243,183,4)",
          "layer": "below",
          "line": {
           "width": 0
          },
          "opacity": 0.3,
          "type": "rect",
          "x0": 6,
          "x1": 12,
          "xref": "x",
          "y0": 0,
          "y1": 1,
          "yref": "y domain"
         },
         {
          "line": {
           "color": "darkred",
           "dash": "dash",
           "width": 2
          },
          "type": "line",
          "x0": 10,
          "x1": 10,
          "xref": "x",
          "y0": 0,
          "y1": 1,
          "yref": "y domain"
         }
        ],
        "template": {
         "data": {
          "bar": [
           {
            "error_x": {
             "color": "rgb(36,36,36)"
            },
            "error_y": {
             "color": "rgb(36,36,36)"
            },
            "marker": {
             "line": {
              "color": "white",
              "width": 0.5
             },
             "pattern": {
              "fillmode": "overlay",
              "size": 10,
              "solidity": 0.2
             }
            },
            "type": "bar"
           }
          ],
          "barpolar": [
           {
            "marker": {
             "line": {
              "color": "white",
              "width": 0.5
             },
             "pattern": {
              "fillmode": "overlay",
              "size": 10,
              "solidity": 0.2
             }
            },
            "type": "barpolar"
           }
          ],
          "carpet": [
           {
            "aaxis": {
             "endlinecolor": "rgb(36,36,36)",
             "gridcolor": "white",
             "linecolor": "white",
             "minorgridcolor": "white",
             "startlinecolor": "rgb(36,36,36)"
            },
            "baxis": {
             "endlinecolor": "rgb(36,36,36)",
             "gridcolor": "white",
             "linecolor": "white",
             "minorgridcolor": "white",
             "startlinecolor": "rgb(36,36,36)"
            },
            "type": "carpet"
           }
          ],
          "choropleth": [
           {
            "colorbar": {
             "outlinewidth": 1,
             "tickcolor": "rgb(36,36,36)",
             "ticks": "outside"
            },
            "type": "choropleth"
           }
          ],
          "contour": [
           {
            "colorbar": {
             "outlinewidth": 1,
             "tickcolor": "rgb(36,36,36)",
             "ticks": "outside"
            },
            "colorscale": [
             [
              0,
              "#440154"
             ],
             [
              0.1111111111111111,
              "#482878"
             ],
             [
              0.2222222222222222,
              "#3e4989"
             ],
             [
              0.3333333333333333,
              "#31688e"
             ],
             [
              0.4444444444444444,
              "#26828e"
             ],
             [
              0.5555555555555556,
              "#1f9e89"
             ],
             [
              0.6666666666666666,
              "#35b779"
             ],
             [
              0.7777777777777778,
              "#6ece58"
             ],
             [
              0.8888888888888888,
              "#b5de2b"
             ],
             [
              1,
              "#fde725"
             ]
            ],
            "type": "contour"
           }
          ],
          "contourcarpet": [
           {
            "colorbar": {
             "outlinewidth": 1,
             "tickcolor": "rgb(36,36,36)",
             "ticks": "outside"
            },
            "type": "contourcarpet"
           }
          ],
          "heatmap": [
           {
            "colorbar": {
             "outlinewidth": 1,
             "tickcolor": "rgb(36,36,36)",
             "ticks": "outside"
            },
            "colorscale": [
             [
              0,
              "#440154"
             ],
             [
              0.1111111111111111,
              "#482878"
             ],
             [
              0.2222222222222222,
              "#3e4989"
             ],
             [
              0.3333333333333333,
              "#31688e"
             ],
             [
              0.4444444444444444,
              "#26828e"
             ],
             [
              0.5555555555555556,
              "#1f9e89"
             ],
             [
              0.6666666666666666,
              "#35b779"
             ],
             [
              0.7777777777777778,
              "#6ece58"
             ],
             [
              0.8888888888888888,
              "#b5de2b"
             ],
             [
              1,
              "#fde725"
             ]
            ],
            "type": "heatmap"
           }
          ],
          "histogram": [
           {
            "marker": {
             "line": {
              "color": "white",
              "width": 0.6
             }
            },
            "type": "histogram"
           }
          ],
          "histogram2d": [
           {
            "colorbar": {
             "outlinewidth": 1,
             "tickcolor": "rgb(36,36,36)",
             "ticks": "outside"
            },
            "colorscale": [
             [
              0,
              "#440154"
             ],
             [
              0.1111111111111111,
              "#482878"
             ],
             [
              0.2222222222222222,
              "#3e4989"
             ],
             [
              0.3333333333333333,
              "#31688e"
             ],
             [
              0.4444444444444444,
              "#26828e"
             ],
             [
              0.5555555555555556,
              "#1f9e89"
             ],
             [
              0.6666666666666666,
              "#35b779"
             ],
             [
              0.7777777777777778,
              "#6ece58"
             ],
             [
              0.8888888888888888,
              "#b5de2b"
             ],
             [
              1,
              "#fde725"
             ]
            ],
            "type": "histogram2d"
           }
          ],
          "histogram2dcontour": [
           {
            "colorbar": {
             "outlinewidth": 1,
             "tickcolor": "rgb(36,36,36)",
             "ticks": "outside"
            },
            "colorscale": [
             [
              0,
              "#440154"
             ],
             [
              0.1111111111111111,
              "#482878"
             ],
             [
              0.2222222222222222,
              "#3e4989"
             ],
             [
              0.3333333333333333,
              "#31688e"
             ],
             [
              0.4444444444444444,
              "#26828e"
             ],
             [
              0.5555555555555556,
              "#1f9e89"
             ],
             [
              0.6666666666666666,
              "#35b779"
             ],
             [
              0.7777777777777778,
              "#6ece58"
             ],
             [
              0.8888888888888888,
              "#b5de2b"
             ],
             [
              1,
              "#fde725"
             ]
            ],
            "type": "histogram2dcontour"
           }
          ],
          "mesh3d": [
           {
            "colorbar": {
             "outlinewidth": 1,
             "tickcolor": "rgb(36,36,36)",
             "ticks": "outside"
            },
            "type": "mesh3d"
           }
          ],
          "parcoords": [
           {
            "line": {
             "colorbar": {
              "outlinewidth": 1,
              "tickcolor": "rgb(36,36,36)",
              "ticks": "outside"
             }
            },
            "type": "parcoords"
           }
          ],
          "pie": [
           {
            "automargin": true,
            "type": "pie"
           }
          ],
          "scatter": [
           {
            "fillpattern": {
             "fillmode": "overlay",
             "size": 10,
             "solidity": 0.2
            },
            "type": "scatter"
           }
          ],
          "scatter3d": [
           {
            "line": {
             "colorbar": {
              "outlinewidth": 1,
              "tickcolor": "rgb(36,36,36)",
              "ticks": "outside"
             }
            },
            "marker": {
             "colorbar": {
              "outlinewidth": 1,
              "tickcolor": "rgb(36,36,36)",
              "ticks": "outside"
             }
            },
            "type": "scatter3d"
           }
          ],
          "scattercarpet": [
           {
            "marker": {
             "colorbar": {
              "outlinewidth": 1,
              "tickcolor": "rgb(36,36,36)",
              "ticks": "outside"
             }
            },
            "type": "scattercarpet"
           }
          ],
          "scattergeo": [
           {
            "marker": {
             "colorbar": {
              "outlinewidth": 1,
              "tickcolor": "rgb(36,36,36)",
              "ticks": "outside"
             }
            },
            "type": "scattergeo"
           }
          ],
          "scattergl": [
           {
            "marker": {
             "colorbar": {
              "outlinewidth": 1,
              "tickcolor": "rgb(36,36,36)",
              "ticks": "outside"
             }
            },
            "type": "scattergl"
           }
          ],
          "scattermap": [
           {
            "marker": {
             "colorbar": {
              "outlinewidth": 1,
              "tickcolor": "rgb(36,36,36)",
              "ticks": "outside"
             }
            },
            "type": "scattermap"
           }
          ],
          "scattermapbox": [
           {
            "marker": {
             "colorbar": {
              "outlinewidth": 1,
              "tickcolor": "rgb(36,36,36)",
              "ticks": "outside"
             }
            },
            "type": "scattermapbox"
           }
          ],
          "scatterpolar": [
           {
            "marker": {
             "colorbar": {
              "outlinewidth": 1,
              "tickcolor": "rgb(36,36,36)",
              "ticks": "outside"
             }
            },
            "type": "scatterpolar"
           }
          ],
          "scatterpolargl": [
           {
            "marker": {
             "colorbar": {
              "outlinewidth": 1,
              "tickcolor": "rgb(36,36,36)",
              "ticks": "outside"
             }
            },
            "type": "scatterpolargl"
           }
          ],
          "scatterternary": [
           {
            "marker": {
             "colorbar": {
              "outlinewidth": 1,
              "tickcolor": "rgb(36,36,36)",
              "ticks": "outside"
             }
            },
            "type": "scatterternary"
           }
          ],
          "surface": [
           {
            "colorbar": {
             "outlinewidth": 1,
             "tickcolor": "rgb(36,36,36)",
             "ticks": "outside"
            },
            "colorscale": [
             [
              0,
              "#440154"
             ],
             [
              0.1111111111111111,
              "#482878"
             ],
             [
              0.2222222222222222,
              "#3e4989"
             ],
             [
              0.3333333333333333,
              "#31688e"
             ],
             [
              0.4444444444444444,
              "#26828e"
             ],
             [
              0.5555555555555556,
              "#1f9e89"
             ],
             [
              0.6666666666666666,
              "#35b779"
             ],
             [
              0.7777777777777778,
              "#6ece58"
             ],
             [
              0.8888888888888888,
              "#b5de2b"
             ],
             [
              1,
              "#fde725"
             ]
            ],
            "type": "surface"
           }
          ],
          "table": [
           {
            "cells": {
             "fill": {
              "color": "rgb(237,237,237)"
             },
             "line": {
              "color": "white"
             }
            },
            "header": {
             "fill": {
              "color": "rgb(217,217,217)"
             },
             "line": {
              "color": "white"
             }
            },
            "type": "table"
           }
          ]
         },
         "layout": {
          "annotationdefaults": {
           "arrowhead": 0,
           "arrowwidth": 1
          },
          "autotypenumbers": "strict",
          "coloraxis": {
           "colorbar": {
            "outlinewidth": 1,
            "tickcolor": "rgb(36,36,36)",
            "ticks": "outside"
           }
          },
          "colorscale": {
           "diverging": [
            [
             0,
             "rgb(103,0,31)"
            ],
            [
             0.1,
             "rgb(178,24,43)"
            ],
            [
             0.2,
             "rgb(214,96,77)"
            ],
            [
             0.3,
             "rgb(244,165,130)"
            ],
            [
             0.4,
             "rgb(253,219,199)"
            ],
            [
             0.5,
             "rgb(247,247,247)"
            ],
            [
             0.6,
             "rgb(209,229,240)"
            ],
            [
             0.7,
             "rgb(146,197,222)"
            ],
            [
             0.8,
             "rgb(67,147,195)"
            ],
            [
             0.9,
             "rgb(33,102,172)"
            ],
            [
             1,
             "rgb(5,48,97)"
            ]
           ],
           "sequential": [
            [
             0,
             "#440154"
            ],
            [
             0.1111111111111111,
             "#482878"
            ],
            [
             0.2222222222222222,
             "#3e4989"
            ],
            [
             0.3333333333333333,
             "#31688e"
            ],
            [
             0.4444444444444444,
             "#26828e"
            ],
            [
             0.5555555555555556,
             "#1f9e89"
            ],
            [
             0.6666666666666666,
             "#35b779"
            ],
            [
             0.7777777777777778,
             "#6ece58"
            ],
            [
             0.8888888888888888,
             "#b5de2b"
            ],
            [
             1,
             "#fde725"
            ]
           ],
           "sequentialminus": [
            [
             0,
             "#440154"
            ],
            [
             0.1111111111111111,
             "#482878"
            ],
            [
             0.2222222222222222,
             "#3e4989"
            ],
            [
             0.3333333333333333,
             "#31688e"
            ],
            [
             0.4444444444444444,
             "#26828e"
            ],
            [
             0.5555555555555556,
             "#1f9e89"
            ],
            [
             0.6666666666666666,
             "#35b779"
            ],
            [
             0.7777777777777778,
             "#6ece58"
            ],
            [
             0.8888888888888888,
             "#b5de2b"
            ],
            [
             1,
             "#fde725"
            ]
           ]
          },
          "colorway": [
           "#1F77B4",
           "#FF7F0E",
           "#2CA02C",
           "#D62728",
           "#9467BD",
           "#8C564B",
           "#E377C2",
           "#7F7F7F",
           "#BCBD22",
           "#17BECF"
          ],
          "font": {
           "color": "rgb(36,36,36)"
          },
          "geo": {
           "bgcolor": "white",
           "lakecolor": "white",
           "landcolor": "white",
           "showlakes": true,
           "showland": true,
           "subunitcolor": "white"
          },
          "hoverlabel": {
           "align": "left"
          },
          "hovermode": "closest",
          "mapbox": {
           "style": "light"
          },
          "paper_bgcolor": "white",
          "plot_bgcolor": "white",
          "polar": {
           "angularaxis": {
            "gridcolor": "rgb(232,232,232)",
            "linecolor": "rgb(36,36,36)",
            "showgrid": false,
            "showline": true,
            "ticks": "outside"
           },
           "bgcolor": "white",
           "radialaxis": {
            "gridcolor": "rgb(232,232,232)",
            "linecolor": "rgb(36,36,36)",
            "showgrid": false,
            "showline": true,
            "ticks": "outside"
           }
          },
          "scene": {
           "xaxis": {
            "backgroundcolor": "white",
            "gridcolor": "rgb(232,232,232)",
            "gridwidth": 2,
            "linecolor": "rgb(36,36,36)",
            "showbackground": true,
            "showgrid": false,
            "showline": true,
            "ticks": "outside",
            "zeroline": false,
            "zerolinecolor": "rgb(36,36,36)"
           },
           "yaxis": {
            "backgroundcolor": "white",
            "gridcolor": "rgb(232,232,232)",
            "gridwidth": 2,
            "linecolor": "rgb(36,36,36)",
            "showbackground": true,
            "showgrid": false,
            "showline": true,
            "ticks": "outside",
            "zeroline": false,
            "zerolinecolor": "rgb(36,36,36)"
           },
           "zaxis": {
            "backgroundcolor": "white",
            "gridcolor": "rgb(232,232,232)",
            "gridwidth": 2,
            "linecolor": "rgb(36,36,36)",
            "showbackground": true,
            "showgrid": false,
            "showline": true,
            "ticks": "outside",
            "zeroline": false,
            "zerolinecolor": "rgb(36,36,36)"
           }
          },
          "shapedefaults": {
           "fillcolor": "black",
           "line": {
            "width": 0
           },
           "opacity": 0.3
          },
          "ternary": {
           "aaxis": {
            "gridcolor": "rgb(232,232,232)",
            "linecolor": "rgb(36,36,36)",
            "showgrid": false,
            "showline": true,
            "ticks": "outside"
           },
           "baxis": {
            "gridcolor": "rgb(232,232,232)",
            "linecolor": "rgb(36,36,36)",
            "showgrid": false,
            "showline": true,
            "ticks": "outside"
           },
           "bgcolor": "white",
           "caxis": {
            "gridcolor": "rgb(232,232,232)",
            "linecolor": "rgb(36,36,36)",
            "showgrid": false,
            "showline": true,
            "ticks": "outside"
           }
          },
          "title": {
           "x": 0.05
          },
          "xaxis": {
           "automargin": true,
           "gridcolor": "rgb(232,232,232)",
           "linecolor": "rgb(36,36,36)",
           "showgrid": false,
           "showline": true,
           "ticks": "outside",
           "title": {
            "standoff": 15
           },
           "zeroline": false,
           "zerolinecolor": "rgb(36,36,36)"
          },
          "yaxis": {
           "automargin": true,
           "gridcolor": "rgb(232,232,232)",
           "linecolor": "rgb(36,36,36)",
           "showgrid": false,
           "showline": true,
           "ticks": "outside",
           "title": {
            "standoff": 15
           },
           "zeroline": false,
           "zerolinecolor": "rgb(36,36,36)"
          }
         }
        },
        "title": {
         "text": "Fan Map for T2M on 2025"
        },
        "xaxis": {
         "tickmode": "array",
         "ticktext": [
          "Jan",
          "Feb",
          "Mar",
          "Apr",
          "May",
          "Jun",
          "Jul",
          "Aug",
          "Sep",
          "Oct",
          "Nov",
          "Dec"
         ],
         "tickvals": [
          1,
          2,
          3,
          4,
          5,
          6,
          7,
          8,
          9,
          10,
          11,
          12
         ],
         "title": {
          "text": "Time"
         }
        },
        "yaxis": {
         "gridcolor": "lightgray",
         "gridwidth": 0.5,
         "showgrid": true,
         "title": {
          "text": "T2M"
         }
        }
       }
      }
     },
     "metadata": {},
     "output_type": "display_data"
    }
   ],
   "source": [
    "import numpy as np\n",
    "import seaborn as sns\n",
    "import plotly.graph_objects as go\n",
    "from datetime import datetime\n",
    "\n",
    "from typing import List, Dict\n",
    "\n",
    "def prepare_plotly_fanmap_with_vbands_v3(\n",
    "    pred_df: pd.DataFrame, parameter, ci_levels=[30, 60, 90]\n",
    "):\n",
    "    sns.set_style(\"whitegrid\")\n",
    "    x = pred_df[\"month\"].tolist()\n",
    "    x_dt = pred_df[\"month\"]  # giữ dạng datetime\n",
    "    traces = []\n",
    "\n",
    "\n",
    "    # Mean line\n",
    "    mean_vals = pred_df[parameter].tolist()\n",
    "    traces.append(\n",
    "        go.Scatter(\n",
    "            x=x,\n",
    "            y=mean_vals,\n",
    "            mode=\"lines+markers\",\n",
    "            line=dict(color=\"black\", width=2),\n",
    "            name=\"Mean\",\n",
    "            hovertemplate=f\"Time: %{{x}}<br>{parameter}: %{{y:.2f}}<extra></extra>\",\n",
    "        )\n",
    "    )\n",
    "\n",
    "    fig = go.Figure(data=traces)\n",
    "\n",
    "    # --- Beaufort classes ---\n",
    "    thresholds = PARAM_THRESHOLDS[parameter]\n",
    "\n",
    "    def classify(val):\n",
    "        for threshold in thresholds:\n",
    "            if threshold[\"lower\"] <= val <= threshold[\"upper\"]:\n",
    "                return threshold\n",
    "        return None\n",
    "\n",
    "    # Gom các đoạn liên tiếp cùng loại gió\n",
    "    bands = []\n",
    "    current_class = None\n",
    "    x0 = None\n",
    "\n",
    "    for i, val in enumerate(mean_vals):\n",
    "        cls = classify(val)\n",
    "        if cls != current_class:\n",
    "            if current_class is not None:\n",
    "                bands.append((x0, x_dt[i], current_class))\n",
    "            current_class = cls\n",
    "            x0 = x_dt[i]\n",
    "    if current_class is not None:\n",
    "        bands.append((x0, x_dt.iloc[-1], current_class))\n",
    "\n",
    "    # Vẽ các vrect gom nhóm theo Beaufort\n",
    "    for x0, x1, wc in bands:\n",
    "        if x0 == x1:\n",
    "            x1 += 0.05\n",
    "        fig.add_vrect(\n",
    "            x0=x0,\n",
    "            x1=x1,\n",
    "            fillcolor=wc[\"color\"],\n",
    "            opacity=0.3,  # tăng độ đậm\n",
    "            layer=\"below\",\n",
    "            line_width=0,\n",
    "            annotation_text=wc[\"label\"],\n",
    "            annotation_position=\"top left\",\n",
    "            annotation=dict(font_size=12, font_color=\"black\", font_weight=\"bold\"),\n",
    "        )\n",
    "\n",
    "\n",
    "    # Thêm legend (trace ẩn cho mỗi loại gió)\n",
    "    for wc in thresholds:\n",
    "        fig.add_trace(\n",
    "            go.Scatter(\n",
    "                x=[None],\n",
    "                y=[None],\n",
    "                mode=\"markers\",\n",
    "                marker=dict(size=10, color=wc[\"color\"]),\n",
    "                name=wc[\"label\"],\n",
    "            )\n",
    "        )\n",
    "\n",
    "    # --- Local maxima / minima ---\n",
    "    y = np.array(mean_vals)\n",
    "    maxima = np.r_[False, (y[1:-1] > y[:-2]) & (y[1:-1] > y[2:]), False]\n",
    "    minima = np.r_[False, (y[1:-1] < y[:-2]) & (y[1:-1] < y[2:]), False]\n",
    "\n",
    "    fig.add_trace(\n",
    "        go.Scatter(\n",
    "            x=np.array(x)[maxima],\n",
    "            y=y[maxima],\n",
    "            mode=\"markers\",\n",
    "            marker=dict(color=\"red\", size=10, symbol=\"circle\"),\n",
    "            name=\"Max\",\n",
    "            hovertemplate=f\"Time: %{{x}}<br>{parameter}: %{{y:.2f}}<extra></extra>\",\n",
    "        )\n",
    "    )\n",
    "\n",
    "    fig.add_trace(\n",
    "        go.Scatter(\n",
    "            x=np.array(x)[minima],\n",
    "            y=y[minima],\n",
    "            mode=\"markers\",\n",
    "            marker=dict(color=\"blue\", size=10, symbol=\"circle\"),\n",
    "            name=\"Min\",\n",
    "            hovertemplate=f\"Time: %{{x}}<br>{parameter}: %{{y:.2f}}<extra></extra>\",\n",
    "        )\n",
    "    )\n",
    "\n",
    "    # Layout\n",
    "    fig.update_layout(\n",
    "        title=f\"Fan Map for {parameter} on {datetime.now().year}\",\n",
    "        xaxis_title=\"Time\",\n",
    "        yaxis_title=parameter,\n",
    "        template=\"simple_white\",\n",
    "    )\n",
    "\n",
    "    # Hiển thị lưới\n",
    "    fig.update_xaxes(tickmode=\"array\", tickvals=list(range(1, 13)), ticktext=[\"Jan\", \"Feb\", \"Mar\", \"Apr\", \"May\", \"Jun\", \"Jul\", \"Aug\", \"Sep\", \"Oct\", \"Nov\", \"Dec\"])\n",
    "    fig.update_yaxes(showgrid=True, gridwidth=0.5, gridcolor=\"lightgray\")\n",
    "\n",
    "\n",
    "    # Ví dụ tháng hiện tại\n",
    "    current_month = datetime.now().month   # hoặc gán = 10 nếu muốn fix\n",
    "\n",
    "    fig.add_vline(\n",
    "        x=current_month,  # vị trí đường kẻ (theo trục X)\n",
    "        line_width=2,\n",
    "        line_dash=\"dash\",  # kiểu nét đứt\n",
    "        line_color=\"darkred\",\n",
    "        annotation_text=f\"Current month\",  # label trên đường\n",
    "        annotation_position=\"top\",\n",
    "        annotation=dict(font_size=12, font_color=\"black\", font_weight=\"bold\", font_style=\"normal\"),\n",
    "    )\n",
    "\n",
    "    fig.show()\n",
    "\n",
    "    # return fig\n",
    "\n",
    "prepare_plotly_fanmap_with_vbands_v3(avg_df, \"T2M\")"
   ]
  },
  {
   "cell_type": "code",
   "execution_count": null,
   "id": "283265e9",
   "metadata": {},
   "outputs": [],
   "source": []
  }
 ],
 "metadata": {
  "kernelspec": {
   "display_name": "Python 3",
   "language": "python",
   "name": "python3"
  },
  "language_info": {
   "codemirror_mode": {
    "name": "ipython",
    "version": 3
   },
   "file_extension": ".py",
   "mimetype": "text/x-python",
   "name": "python",
   "nbconvert_exporter": "python",
   "pygments_lexer": "ipython3",
   "version": "3.11.3"
  }
 },
 "nbformat": 4,
 "nbformat_minor": 5
}

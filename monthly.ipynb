{
 "cells": [
  {
   "cell_type": "code",
   "execution_count": 1,
   "id": "ecfa7b91",
   "metadata": {},
   "outputs": [],
   "source": [
    "from core.thresholds import PARAM_THRESHOLDS"
   ]
  },
  {
   "cell_type": "code",
   "execution_count": 2,
   "id": "94f5de09",
   "metadata": {},
   "outputs": [],
   "source": [
    "import asyncio\n",
    "from datetime import datetime, timedelta\n",
    "from typing import List, Any, Dict\n",
    "\n",
    "import aiohttp\n",
    "import pandas as pd\n",
    "import numpy as np\n",
    "\n",
    "async def fetch_monthly_data_from_power_dav(\n",
    "    session: aiohttp.ClientSession,\n",
    "    latitude: float,\n",
    "    longitude: float,\n",
    "    start_year: str,\n",
    "    end_year: str,\n",
    "    parameters: List[str]\n",
    ") -> Dict[str, Any]:\n",
    "    url = (\n",
    "        \"https://power.larc.nasa.gov/api/temporal/monthly/point\"\n",
    "        f\"?start={start_year}&end={end_year}&latitude={latitude}&longitude={longitude}\"\n",
    "        f\"&parameters={','.join(parameters)}&format=JSON&community=RE\"\n",
    "    )\n",
    "    async with session.get(url) as resp:\n",
    "        resp.raise_for_status()\n",
    "        js = await resp.json()\n",
    "        return js[\"properties\"][\"parameter\"]\n",
    "\n",
    "async def get_monthly_data_async(target_date: datetime, latitude, longitude, params, window=0, years_back=5):\n",
    "    dfs = []\n",
    "    async with aiohttp.ClientSession() as session:\n",
    "        tasks = []\n",
    "        for i in range(1, years_back+1):\n",
    "            past_year = target_date.year - i\n",
    "            start = (target_date.replace(year=past_year) - timedelta(days=window)).strftime(\"%Y\")\n",
    "            end = (target_date.replace(year=past_year) + timedelta(days=window)).strftime(\"%Y\")\n",
    "            tasks.append(fetch_monthly_data_from_power_dav(session, latitude, longitude, start, end, params))\n",
    "        results = await asyncio.gather(*tasks)\n",
    "\n",
    "    # convert to dataframe list\n",
    "    for i, r in enumerate(results, 1):\n",
    "        past_year = target_date.year - i\n",
    "        for p in params:\n",
    "            del r[p][f\"{past_year}13\"]\n",
    "        df = pd.DataFrame({p: pd.Series(r[p]) for p in params})\n",
    "        df.index = pd.to_datetime(df.index, format=\"%Y%m\")\n",
    "        df[\"year\"] = past_year\n",
    "        df[\"month\"] = df.index.month\n",
    "        dfs.append(df)\n",
    "\n",
    "    full_df = pd.concat(dfs, axis=0)\n",
    "    return full_df.reset_index(drop=True)\n",
    "\n",
    "# Create monthly averages\n",
    "def make_hourly_yearly_avg_df(raw_df, params):\n",
    "    avg_df = raw_df.groupby([\"month\"])[params].mean().reset_index()\n",
    "    return avg_df\n",
    "\n",
    "# Example usage\n",
    "params = [\"T2M\",\"RH2M\",\"PRECTOTCORR\",\"ALLSKY_SFC_SW_DWN\",\"WS2M\"]\n",
    "target_date = datetime(2025,10,2,12)\n",
    "\n",
    "raw_df = await get_monthly_data_async(target_date, 10.75, 106.67, params)\n",
    "avg_df = make_hourly_yearly_avg_df(raw_df, params)"
   ]
  },
  {
   "cell_type": "code",
   "execution_count": 10,
   "id": "6738eff7",
   "metadata": {},
   "outputs": [
    {
     "data": {
      "application/vnd.plotly.v1+json": {
       "config": {
        "plotlyServerURL": "https://plot.ly"
       },
       "data": [
        {
         "hovertemplate": "Time: %{x}<br>PRECTOTCORR: %{y:.2f}<extra></extra>",
         "line": {
          "color": "black",
          "width": 2
         },
         "mode": "lines+markers",
         "name": "Mean",
         "type": "scatter",
         "x": [
          1,
          2,
          3,
          4,
          5,
          6,
          7,
          8,
          9,
          10,
          11,
          12
         ],
         "y": [
          0.164,
          0.078,
          0.738,
          1.81,
          6.248,
          9.892,
          9.504,
          7.191999999999998,
          8.17,
          8.84,
          3.4699999999999998,
          1.56
         ]
        },
        {
         "marker": {
          "color": "rgb(60,116,160)",
          "size": 10
         },
         "mode": "markers",
         "name": "Light rain",
         "type": "scatter",
         "x": [
          null
         ],
         "y": [
          null
         ]
        },
        {
         "marker": {
          "color": "rgb(59,161,61)",
          "size": 10
         },
         "mode": "markers",
         "name": "Moderate rain",
         "type": "scatter",
         "x": [
          null
         ],
         "y": [
          null
         ]
        },
        {
         "marker": {
          "color": "rgb(161,161,59)",
          "size": 10
         },
         "mode": "markers",
         "name": "Heavy rain",
         "type": "scatter",
         "x": [
          null
         ],
         "y": [
          null
         ]
        },
        {
         "hovertemplate": "Time: %{x}<br>PRECTOTCORR: %{y:.2f}<extra></extra>",
         "marker": {
          "color": "red",
          "size": 10,
          "symbol": "circle"
         },
         "mode": "markers",
         "name": "Max",
         "type": "scatter",
         "x": {
          "bdata": "BgAAAAoAAAA=",
          "dtype": "i4"
         },
         "y": {
          "bdata": "YhBYObTII0CuR+F6FK4hQA==",
          "dtype": "f8"
         }
        },
        {
         "hovertemplate": "Time: %{x}<br>PRECTOTCORR: %{y:.2f}<extra></extra>",
         "marker": {
          "color": "blue",
          "size": 10,
          "symbol": "circle"
         },
         "mode": "markers",
         "name": "Min",
         "type": "scatter",
         "x": {
          "bdata": "AgAAAAgAAAA=",
          "dtype": "i4"
         },
         "y": {
          "bdata": "K4cW2c73sz/2U+Olm8QcQA==",
          "dtype": "f8"
         }
        }
       ],
       "layout": {
        "annotations": [
         {
          "font": {
           "color": "black",
           "size": 12,
           "weight": "bold"
          },
          "showarrow": false,
          "text": "Light rain",
          "x": 1,
          "xanchor": "left",
          "xref": "x",
          "y": 1,
          "yanchor": "top",
          "yref": "y domain"
         },
         {
          "font": {
           "color": "black",
           "size": 12,
           "weight": "bold"
          },
          "showarrow": false,
          "text": "Moderate rain",
          "x": 5,
          "xanchor": "left",
          "xref": "x",
          "y": 1,
          "yanchor": "top",
          "yref": "y domain"
         },
         {
          "font": {
           "color": "black",
           "size": 12,
           "weight": "bold"
          },
          "showarrow": false,
          "text": "Light rain",
          "x": 12,
          "xanchor": "left",
          "xref": "x",
          "y": 1,
          "yanchor": "top",
          "yref": "y domain"
         },
         {
          "font": {
           "color": "black",
           "size": 12,
           "style": "normal",
           "weight": "bold"
          },
          "showarrow": false,
          "text": "Current month",
          "x": 10,
          "xanchor": "center",
          "xref": "x",
          "y": 1,
          "yanchor": "bottom",
          "yref": "y domain"
         }
        ],
        "shapes": [
         {
          "fillcolor": "rgb(60,116,160)",
          "layer": "below",
          "line": {
           "width": 0
          },
          "opacity": 0.3,
          "type": "rect",
          "x0": 1,
          "x1": 5,
          "xref": "x",
          "y0": 0,
          "y1": 1,
          "yref": "y domain"
         },
         {
          "fillcolor": "rgb(59,161,61)",
          "layer": "below",
          "line": {
           "width": 0
          },
          "opacity": 0.3,
          "type": "rect",
          "x0": 5,
          "x1": 12,
          "xref": "x",
          "y0": 0,
          "y1": 1,
          "yref": "y domain"
         },
         {
          "fillcolor": "rgb(60,116,160)",
          "layer": "below",
          "line": {
           "width": 0
          },
          "opacity": 0.3,
          "type": "rect",
          "x0": 12,
          "x1": 12.05,
          "xref": "x",
          "y0": 0,
          "y1": 1,
          "yref": "y domain"
         },
         {
          "line": {
           "color": "darkred",
           "dash": "dash",
           "width": 2
          },
          "type": "line",
          "x0": 10,
          "x1": 10,
          "xref": "x",
          "y0": 0,
          "y1": 1,
          "yref": "y domain"
         }
        ],
        "template": {
         "data": {
          "bar": [
           {
            "error_x": {
             "color": "rgb(36,36,36)"
            },
            "error_y": {
             "color": "rgb(36,36,36)"
            },
            "marker": {
             "line": {
              "color": "white",
              "width": 0.5
             },
             "pattern": {
              "fillmode": "overlay",
              "size": 10,
              "solidity": 0.2
             }
            },
            "type": "bar"
           }
          ],
          "barpolar": [
           {
            "marker": {
             "line": {
              "color": "white",
              "width": 0.5
             },
             "pattern": {
              "fillmode": "overlay",
              "size": 10,
              "solidity": 0.2
             }
            },
            "type": "barpolar"
           }
          ],
          "carpet": [
           {
            "aaxis": {
             "endlinecolor": "rgb(36,36,36)",
             "gridcolor": "white",
             "linecolor": "white",
             "minorgridcolor": "white",
             "startlinecolor": "rgb(36,36,36)"
            },
            "baxis": {
             "endlinecolor": "rgb(36,36,36)",
             "gridcolor": "white",
             "linecolor": "white",
             "minorgridcolor": "white",
             "startlinecolor": "rgb(36,36,36)"
            },
            "type": "carpet"
           }
          ],
          "choropleth": [
           {
            "colorbar": {
             "outlinewidth": 1,
             "tickcolor": "rgb(36,36,36)",
             "ticks": "outside"
            },
            "type": "choropleth"
           }
          ],
          "contour": [
           {
            "colorbar": {
             "outlinewidth": 1,
             "tickcolor": "rgb(36,36,36)",
             "ticks": "outside"
            },
            "colorscale": [
             [
              0,
              "#440154"
             ],
             [
              0.1111111111111111,
              "#482878"
             ],
             [
              0.2222222222222222,
              "#3e4989"
             ],
             [
              0.3333333333333333,
              "#31688e"
             ],
             [
              0.4444444444444444,
              "#26828e"
             ],
             [
              0.5555555555555556,
              "#1f9e89"
             ],
             [
              0.6666666666666666,
              "#35b779"
             ],
             [
              0.7777777777777778,
              "#6ece58"
             ],
             [
              0.8888888888888888,
              "#b5de2b"
             ],
             [
              1,
              "#fde725"
             ]
            ],
            "type": "contour"
           }
          ],
          "contourcarpet": [
           {
            "colorbar": {
             "outlinewidth": 1,
             "tickcolor": "rgb(36,36,36)",
             "ticks": "outside"
            },
            "type": "contourcarpet"
           }
          ],
          "heatmap": [
           {
            "colorbar": {
             "outlinewidth": 1,
             "tickcolor": "rgb(36,36,36)",
             "ticks": "outside"
            },
            "colorscale": [
             [
              0,
              "#440154"
             ],
             [
              0.1111111111111111,
              "#482878"
             ],
             [
              0.2222222222222222,
              "#3e4989"
             ],
             [
              0.3333333333333333,
              "#31688e"
             ],
             [
              0.4444444444444444,
              "#26828e"
             ],
             [
              0.5555555555555556,
              "#1f9e89"
             ],
             [
              0.6666666666666666,
              "#35b779"
             ],
             [
              0.7777777777777778,
              "#6ece58"
             ],
             [
              0.8888888888888888,
              "#b5de2b"
             ],
             [
              1,
              "#fde725"
             ]
            ],
            "type": "heatmap"
           }
          ],
          "histogram": [
           {
            "marker": {
             "line": {
              "color": "white",
              "width": 0.6
             }
            },
            "type": "histogram"
           }
          ],
          "histogram2d": [
           {
            "colorbar": {
             "outlinewidth": 1,
             "tickcolor": "rgb(36,36,36)",
             "ticks": "outside"
            },
            "colorscale": [
             [
              0,
              "#440154"
             ],
             [
              0.1111111111111111,
              "#482878"
             ],
             [
              0.2222222222222222,
              "#3e4989"
             ],
             [
              0.3333333333333333,
              "#31688e"
             ],
             [
              0.4444444444444444,
              "#26828e"
             ],
             [
              0.5555555555555556,
              "#1f9e89"
             ],
             [
              0.6666666666666666,
              "#35b779"
             ],
             [
              0.7777777777777778,
              "#6ece58"
             ],
             [
              0.8888888888888888,
              "#b5de2b"
             ],
             [
              1,
              "#fde725"
             ]
            ],
            "type": "histogram2d"
           }
          ],
          "histogram2dcontour": [
           {
            "colorbar": {
             "outlinewidth": 1,
             "tickcolor": "rgb(36,36,36)",
             "ticks": "outside"
            },
            "colorscale": [
             [
              0,
              "#440154"
             ],
             [
              0.1111111111111111,
              "#482878"
             ],
             [
              0.2222222222222222,
              "#3e4989"
             ],
             [
              0.3333333333333333,
              "#31688e"
             ],
             [
              0.4444444444444444,
              "#26828e"
             ],
             [
              0.5555555555555556,
              "#1f9e89"
             ],
             [
              0.6666666666666666,
              "#35b779"
             ],
             [
              0.7777777777777778,
              "#6ece58"
             ],
             [
              0.8888888888888888,
              "#b5de2b"
             ],
             [
              1,
              "#fde725"
             ]
            ],
            "type": "histogram2dcontour"
           }
          ],
          "mesh3d": [
           {
            "colorbar": {
             "outlinewidth": 1,
             "tickcolor": "rgb(36,36,36)",
             "ticks": "outside"
            },
            "type": "mesh3d"
           }
          ],
          "parcoords": [
           {
            "line": {
             "colorbar": {
              "outlinewidth": 1,
              "tickcolor": "rgb(36,36,36)",
              "ticks": "outside"
             }
            },
            "type": "parcoords"
           }
          ],
          "pie": [
           {
            "automargin": true,
            "type": "pie"
           }
          ],
          "scatter": [
           {
            "fillpattern": {
             "fillmode": "overlay",
             "size": 10,
             "solidity": 0.2
            },
            "type": "scatter"
           }
          ],
          "scatter3d": [
           {
            "line": {
             "colorbar": {
              "outlinewidth": 1,
              "tickcolor": "rgb(36,36,36)",
              "ticks": "outside"
             }
            },
            "marker": {
             "colorbar": {
              "outlinewidth": 1,
              "tickcolor": "rgb(36,36,36)",
              "ticks": "outside"
             }
            },
            "type": "scatter3d"
           }
          ],
          "scattercarpet": [
           {
            "marker": {
             "colorbar": {
              "outlinewidth": 1,
              "tickcolor": "rgb(36,36,36)",
              "ticks": "outside"
             }
            },
            "type": "scattercarpet"
           }
          ],
          "scattergeo": [
           {
            "marker": {
             "colorbar": {
              "outlinewidth": 1,
              "tickcolor": "rgb(36,36,36)",
              "ticks": "outside"
             }
            },
            "type": "scattergeo"
           }
          ],
          "scattergl": [
           {
            "marker": {
             "colorbar": {
              "outlinewidth": 1,
              "tickcolor": "rgb(36,36,36)",
              "ticks": "outside"
             }
            },
            "type": "scattergl"
           }
          ],
          "scattermap": [
           {
            "marker": {
             "colorbar": {
              "outlinewidth": 1,
              "tickcolor": "rgb(36,36,36)",
              "ticks": "outside"
             }
            },
            "type": "scattermap"
           }
          ],
          "scattermapbox": [
           {
            "marker": {
             "colorbar": {
              "outlinewidth": 1,
              "tickcolor": "rgb(36,36,36)",
              "ticks": "outside"
             }
            },
            "type": "scattermapbox"
           }
          ],
          "scatterpolar": [
           {
            "marker": {
             "colorbar": {
              "outlinewidth": 1,
              "tickcolor": "rgb(36,36,36)",
              "ticks": "outside"
             }
            },
            "type": "scatterpolar"
           }
          ],
          "scatterpolargl": [
           {
            "marker": {
             "colorbar": {
              "outlinewidth": 1,
              "tickcolor": "rgb(36,36,36)",
              "ticks": "outside"
             }
            },
            "type": "scatterpolargl"
           }
          ],
          "scatterternary": [
           {
            "marker": {
             "colorbar": {
              "outlinewidth": 1,
              "tickcolor": "rgb(36,36,36)",
              "ticks": "outside"
             }
            },
            "type": "scatterternary"
           }
          ],
          "surface": [
           {
            "colorbar": {
             "outlinewidth": 1,
             "tickcolor": "rgb(36,36,36)",
             "ticks": "outside"
            },
            "colorscale": [
             [
              0,
              "#440154"
             ],
             [
              0.1111111111111111,
              "#482878"
             ],
             [
              0.2222222222222222,
              "#3e4989"
             ],
             [
              0.3333333333333333,
              "#31688e"
             ],
             [
              0.4444444444444444,
              "#26828e"
             ],
             [
              0.5555555555555556,
              "#1f9e89"
             ],
             [
              0.6666666666666666,
              "#35b779"
             ],
             [
              0.7777777777777778,
              "#6ece58"
             ],
             [
              0.8888888888888888,
              "#b5de2b"
             ],
             [
              1,
              "#fde725"
             ]
            ],
            "type": "surface"
           }
          ],
          "table": [
           {
            "cells": {
             "fill": {
              "color": "rgb(237,237,237)"
             },
             "line": {
              "color": "white"
             }
            },
            "header": {
             "fill": {
              "color": "rgb(217,217,217)"
             },
             "line": {
              "color": "white"
             }
            },
            "type": "table"
           }
          ]
         },
         "layout": {
          "annotationdefaults": {
           "arrowhead": 0,
           "arrowwidth": 1
          },
          "autotypenumbers": "strict",
          "coloraxis": {
           "colorbar": {
            "outlinewidth": 1,
            "tickcolor": "rgb(36,36,36)",
            "ticks": "outside"
           }
          },
          "colorscale": {
           "diverging": [
            [
             0,
             "rgb(103,0,31)"
            ],
            [
             0.1,
             "rgb(178,24,43)"
            ],
            [
             0.2,
             "rgb(214,96,77)"
            ],
            [
             0.3,
             "rgb(244,165,130)"
            ],
            [
             0.4,
             "rgb(253,219,199)"
            ],
            [
             0.5,
             "rgb(247,247,247)"
            ],
            [
             0.6,
             "rgb(209,229,240)"
            ],
            [
             0.7,
             "rgb(146,197,222)"
            ],
            [
             0.8,
             "rgb(67,147,195)"
            ],
            [
             0.9,
             "rgb(33,102,172)"
            ],
            [
             1,
             "rgb(5,48,97)"
            ]
           ],
           "sequential": [
            [
             0,
             "#440154"
            ],
            [
             0.1111111111111111,
             "#482878"
            ],
            [
             0.2222222222222222,
             "#3e4989"
            ],
            [
             0.3333333333333333,
             "#31688e"
            ],
            [
             0.4444444444444444,
             "#26828e"
            ],
            [
             0.5555555555555556,
             "#1f9e89"
            ],
            [
             0.6666666666666666,
             "#35b779"
            ],
            [
             0.7777777777777778,
             "#6ece58"
            ],
            [
             0.8888888888888888,
             "#b5de2b"
            ],
            [
             1,
             "#fde725"
            ]
           ],
           "sequentialminus": [
            [
             0,
             "#440154"
            ],
            [
             0.1111111111111111,
             "#482878"
            ],
            [
             0.2222222222222222,
             "#3e4989"
            ],
            [
             0.3333333333333333,
             "#31688e"
            ],
            [
             0.4444444444444444,
             "#26828e"
            ],
            [
             0.5555555555555556,
             "#1f9e89"
            ],
            [
             0.6666666666666666,
             "#35b779"
            ],
            [
             0.7777777777777778,
             "#6ece58"
            ],
            [
             0.8888888888888888,
             "#b5de2b"
            ],
            [
             1,
             "#fde725"
            ]
           ]
          },
          "colorway": [
           "#1F77B4",
           "#FF7F0E",
           "#2CA02C",
           "#D62728",
           "#9467BD",
           "#8C564B",
           "#E377C2",
           "#7F7F7F",
           "#BCBD22",
           "#17BECF"
          ],
          "font": {
           "color": "rgb(36,36,36)"
          },
          "geo": {
           "bgcolor": "white",
           "lakecolor": "white",
           "landcolor": "white",
           "showlakes": true,
           "showland": true,
           "subunitcolor": "white"
          },
          "hoverlabel": {
           "align": "left"
          },
          "hovermode": "closest",
          "mapbox": {
           "style": "light"
          },
          "paper_bgcolor": "white",
          "plot_bgcolor": "white",
          "polar": {
           "angularaxis": {
            "gridcolor": "rgb(232,232,232)",
            "linecolor": "rgb(36,36,36)",
            "showgrid": false,
            "showline": true,
            "ticks": "outside"
           },
           "bgcolor": "white",
           "radialaxis": {
            "gridcolor": "rgb(232,232,232)",
            "linecolor": "rgb(36,36,36)",
            "showgrid": false,
            "showline": true,
            "ticks": "outside"
           }
          },
          "scene": {
           "xaxis": {
            "backgroundcolor": "white",
            "gridcolor": "rgb(232,232,232)",
            "gridwidth": 2,
            "linecolor": "rgb(36,36,36)",
            "showbackground": true,
            "showgrid": false,
            "showline": true,
            "ticks": "outside",
            "zeroline": false,
            "zerolinecolor": "rgb(36,36,36)"
           },
           "yaxis": {
            "backgroundcolor": "white",
            "gridcolor": "rgb(232,232,232)",
            "gridwidth": 2,
            "linecolor": "rgb(36,36,36)",
            "showbackground": true,
            "showgrid": false,
            "showline": true,
            "ticks": "outside",
            "zeroline": false,
            "zerolinecolor": "rgb(36,36,36)"
           },
           "zaxis": {
            "backgroundcolor": "white",
            "gridcolor": "rgb(232,232,232)",
            "gridwidth": 2,
            "linecolor": "rgb(36,36,36)",
            "showbackground": true,
            "showgrid": false,
            "showline": true,
            "ticks": "outside",
            "zeroline": false,
            "zerolinecolor": "rgb(36,36,36)"
           }
          },
          "shapedefaults": {
           "fillcolor": "black",
           "line": {
            "width": 0
           },
           "opacity": 0.3
          },
          "ternary": {
           "aaxis": {
            "gridcolor": "rgb(232,232,232)",
            "linecolor": "rgb(36,36,36)",
            "showgrid": false,
            "showline": true,
            "ticks": "outside"
           },
           "baxis": {
            "gridcolor": "rgb(232,232,232)",
            "linecolor": "rgb(36,36,36)",
            "showgrid": false,
            "showline": true,
            "ticks": "outside"
           },
           "bgcolor": "white",
           "caxis": {
            "gridcolor": "rgb(232,232,232)",
            "linecolor": "rgb(36,36,36)",
            "showgrid": false,
            "showline": true,
            "ticks": "outside"
           }
          },
          "title": {
           "x": 0.05
          },
          "xaxis": {
           "automargin": true,
           "gridcolor": "rgb(232,232,232)",
           "linecolor": "rgb(36,36,36)",
           "showgrid": false,
           "showline": true,
           "ticks": "outside",
           "title": {
            "standoff": 15
           },
           "zeroline": false,
           "zerolinecolor": "rgb(36,36,36)"
          },
          "yaxis": {
           "automargin": true,
           "gridcolor": "rgb(232,232,232)",
           "linecolor": "rgb(36,36,36)",
           "showgrid": false,
           "showline": true,
           "ticks": "outside",
           "title": {
            "standoff": 15
           },
           "zeroline": false,
           "zerolinecolor": "rgb(36,36,36)"
          }
         }
        },
        "title": {
         "text": "Fan Map for PRECTOTCORR on 2025"
        },
        "xaxis": {
         "tickmode": "array",
         "ticktext": [
          "Jan",
          "Feb",
          "Mar",
          "Apr",
          "May",
          "Jun",
          "Jul",
          "Aug",
          "Sep",
          "Oct",
          "Nov",
          "Dec"
         ],
         "tickvals": [
          1,
          2,
          3,
          4,
          5,
          6,
          7,
          8,
          9,
          10,
          11,
          12
         ],
         "title": {
          "text": "Time"
         }
        },
        "yaxis": {
         "gridcolor": "lightgray",
         "gridwidth": 0.5,
         "showgrid": true,
         "title": {
          "text": "PRECTOTCORR"
         }
        }
       }
      }
     },
     "metadata": {},
     "output_type": "display_data"
    }
   ],
   "source": [
    "import numpy as np\n",
    "import seaborn as sns\n",
    "import plotly.graph_objects as go\n",
    "from datetime import datetime\n",
    "\n",
    "from typing import List, Dict\n",
    "\n",
    "def prepare_plotly_fanmap_with_vbands_v3(\n",
    "    pred_df: pd.DataFrame, parameter, ci_levels=[30, 60, 90]\n",
    "):\n",
    "    sns.set_style(\"whitegrid\")\n",
    "    x = pred_df[\"month\"].tolist()\n",
    "    x_dt = pred_df[\"month\"]  # giữ dạng datetime\n",
    "    traces = []\n",
    "\n",
    "\n",
    "    # Mean line\n",
    "    mean_vals = pred_df[parameter].tolist()\n",
    "    traces.append(\n",
    "        go.Scatter(\n",
    "            x=x,\n",
    "            y=mean_vals,\n",
    "            mode=\"lines+markers\",\n",
    "            line=dict(color=\"black\", width=2),\n",
    "            name=\"Mean\",\n",
    "            hovertemplate=f\"Time: %{{x}}<br>{parameter}: %{{y:.2f}}<extra></extra>\",\n",
    "        )\n",
    "    )\n",
    "\n",
    "    fig = go.Figure(data=traces)\n",
    "\n",
    "    # --- Beaufort classes ---\n",
    "    thresholds = PARAM_THRESHOLDS[parameter]\n",
    "\n",
    "    def classify(val):\n",
    "        for threshold in thresholds:\n",
    "            if threshold[\"lower\"] <= val <= threshold[\"upper\"]:\n",
    "                return threshold\n",
    "        return None\n",
    "\n",
    "    # Gom các đoạn liên tiếp cùng loại gió\n",
    "    bands = []\n",
    "    current_class = None\n",
    "    x0 = None\n",
    "\n",
    "    for i, val in enumerate(mean_vals):\n",
    "        cls = classify(val)\n",
    "        if cls != current_class:\n",
    "            if current_class is not None:\n",
    "                bands.append((x0, x_dt[i], current_class))\n",
    "            current_class = cls\n",
    "            x0 = x_dt[i]\n",
    "    if current_class is not None:\n",
    "        bands.append((x0, x_dt.iloc[-1], current_class))\n",
    "\n",
    "    # Vẽ các vrect gom nhóm theo Beaufort\n",
    "    for x0, x1, wc in bands:\n",
    "        if x0 == x1:\n",
    "            x1 += 0.05\n",
    "        fig.add_vrect(\n",
    "            x0=x0,\n",
    "            x1=x1,\n",
    "            fillcolor=wc[\"color\"],\n",
    "            opacity=0.3,  # tăng độ đậm\n",
    "            layer=\"below\",\n",
    "            line_width=0,\n",
    "            annotation_text=wc[\"label\"],\n",
    "            annotation_position=\"top left\",\n",
    "            annotation=dict(font_size=12, font_color=\"black\", font_weight=\"bold\"),\n",
    "        )\n",
    "\n",
    "\n",
    "    # Thêm legend (trace ẩn cho mỗi loại gió)\n",
    "    for wc in thresholds:\n",
    "        fig.add_trace(\n",
    "            go.Scatter(\n",
    "                x=[None],\n",
    "                y=[None],\n",
    "                mode=\"markers\",\n",
    "                marker=dict(size=10, color=wc[\"color\"]),\n",
    "                name=wc[\"label\"],\n",
    "            )\n",
    "        )\n",
    "\n",
    "    # --- Local maxima / minima ---\n",
    "    y = np.array(mean_vals)\n",
    "    maxima = np.r_[False, (y[1:-1] > y[:-2]) & (y[1:-1] > y[2:]), False]\n",
    "    minima = np.r_[False, (y[1:-1] < y[:-2]) & (y[1:-1] < y[2:]), False]\n",
    "\n",
    "    fig.add_trace(\n",
    "        go.Scatter(\n",
    "            x=np.array(x)[maxima],\n",
    "            y=y[maxima],\n",
    "            mode=\"markers\",\n",
    "            marker=dict(color=\"red\", size=10, symbol=\"circle\"),\n",
    "            name=\"Max\",\n",
    "            hovertemplate=f\"Time: %{{x}}<br>{parameter}: %{{y:.2f}}<extra></extra>\",\n",
    "        )\n",
    "    )\n",
    "\n",
    "    fig.add_trace(\n",
    "        go.Scatter(\n",
    "            x=np.array(x)[minima],\n",
    "            y=y[minima],\n",
    "            mode=\"markers\",\n",
    "            marker=dict(color=\"blue\", size=10, symbol=\"circle\"),\n",
    "            name=\"Min\",\n",
    "            hovertemplate=f\"Time: %{{x}}<br>{parameter}: %{{y:.2f}}<extra></extra>\",\n",
    "        )\n",
    "    )\n",
    "\n",
    "    # Layout\n",
    "    fig.update_layout(\n",
    "        title=f\"Fan Map for {parameter} on {datetime.now().year}\",\n",
    "        xaxis_title=\"Time\",\n",
    "        yaxis_title=parameter,\n",
    "        template=\"simple_white\",\n",
    "    )\n",
    "\n",
    "    # Hiển thị lưới\n",
    "    fig.update_xaxes(tickmode=\"array\", tickvals=list(range(1, 13)), ticktext=[\"Jan\", \"Feb\", \"Mar\", \"Apr\", \"May\", \"Jun\", \"Jul\", \"Aug\", \"Sep\", \"Oct\", \"Nov\", \"Dec\"])\n",
    "    fig.update_yaxes(showgrid=True, gridwidth=0.5, gridcolor=\"lightgray\")\n",
    "\n",
    "\n",
    "    # Ví dụ tháng hiện tại\n",
    "    current_month = datetime.now().month   # hoặc gán = 10 nếu muốn fix\n",
    "\n",
    "    fig.add_vline(\n",
    "        x=current_month,  # vị trí đường kẻ (theo trục X)\n",
    "        line_width=2,\n",
    "        line_dash=\"dash\",  # kiểu nét đứt\n",
    "        line_color=\"darkred\",\n",
    "        annotation_text=f\"Current month\",  # label trên đường\n",
    "        annotation_position=\"top\",\n",
    "        annotation=dict(font_size=12, font_color=\"black\", font_weight=\"bold\", font_style=\"normal\"),\n",
    "    )\n",
    "\n",
    "    fig.show()\n",
    "\n",
    "    # return fig\n",
    "\n",
    "prepare_plotly_fanmap_with_vbands_v3(avg_df, \"PRECTOTCORR\")"
   ]
  },
  {
   "cell_type": "code",
   "execution_count": null,
   "id": "283265e9",
   "metadata": {},
   "outputs": [
    {
     "ename": "ValueError",
     "evalue": "Invalid property specified for object of type plotly.graph_objs.layout.annotation.Font: 'face'\n\nDid you mean \"size\"?\n\n    Valid properties:\n        color\n\n        family\n            HTML font family - the typeface that will be applied by\n            the web browser. The web browser can only apply a font\n            if it is available on the system where it runs. Provide\n            multiple font families, separated by commas, to\n            indicate the order in which to apply fonts if they\n            aren't available.\n        lineposition\n            Sets the kind of decoration line(s) with text, such as\n            an \"under\", \"over\" or \"through\" as well as combinations\n            e.g. \"under+over\", etc.\n        shadow\n            Sets the shape and color of the shadow behind text.\n            \"auto\" places minimal shadow and applies contrast text\n            font color. See https://developer.mozilla.org/en-\n            US/docs/Web/CSS/text-shadow for additional options.\n        size\n\n        style\n            Sets whether a font should be styled with a normal or\n            italic face from its family.\n        textcase\n            Sets capitalization of text. It can be used to make\n            text appear in all-uppercase or all-lowercase, or with\n            each word capitalized.\n        variant\n            Sets the variant of the font.\n        weight\n            Sets the weight (or boldness) of the font.\n        \nDid you mean \"size\"?\n\nBad property path:\nfont_face\n     ^^^^",
     "output_type": "error",
     "traceback": [
      "\u001b[31m---------------------------------------------------------------------------\u001b[39m",
      "\u001b[31mValueError\u001b[39m                                Traceback (most recent call last)",
      "\u001b[36mCell\u001b[39m\u001b[36m \u001b[39m\u001b[32mIn[51]\u001b[39m\u001b[32m, line 1\u001b[39m\n\u001b[32m----> \u001b[39m\u001b[32m1\u001b[39m \u001b[43mprepare_plotly_fanmap_with_vbands_v3\u001b[49m\u001b[43m(\u001b[49m\u001b[43mavg_df\u001b[49m\u001b[43m,\u001b[49m\u001b[43m \u001b[49m\u001b[33;43m\"\u001b[39;49m\u001b[33;43mPRECTOTCORR\u001b[39;49m\u001b[33;43m\"\u001b[39;49m\u001b[43m)\u001b[49m\n",
      "\u001b[36mCell\u001b[39m\u001b[36m \u001b[39m\u001b[32mIn[50]\u001b[39m\u001b[32m, line 60\u001b[39m, in \u001b[36mprepare_plotly_fanmap_with_vbands_v3\u001b[39m\u001b[34m(pred_df, parameter, ci_levels)\u001b[39m\n\u001b[32m     58\u001b[39m     \u001b[38;5;28;01mif\u001b[39;00m x0 == x1:\n\u001b[32m     59\u001b[39m         x1 += \u001b[32m0.05\u001b[39m\n\u001b[32m---> \u001b[39m\u001b[32m60\u001b[39m     \u001b[43mfig\u001b[49m\u001b[43m.\u001b[49m\u001b[43madd_vrect\u001b[49m\u001b[43m(\u001b[49m\n\u001b[32m     61\u001b[39m \u001b[43m        \u001b[49m\u001b[43mx0\u001b[49m\u001b[43m=\u001b[49m\u001b[43mx0\u001b[49m\u001b[43m,\u001b[49m\n\u001b[32m     62\u001b[39m \u001b[43m        \u001b[49m\u001b[43mx1\u001b[49m\u001b[43m=\u001b[49m\u001b[43mx1\u001b[49m\u001b[43m,\u001b[49m\n\u001b[32m     63\u001b[39m \u001b[43m        \u001b[49m\u001b[43mfillcolor\u001b[49m\u001b[43m=\u001b[49m\u001b[43mwc\u001b[49m\u001b[43m[\u001b[49m\u001b[33;43m\"\u001b[39;49m\u001b[33;43mcolor\u001b[39;49m\u001b[33;43m\"\u001b[39;49m\u001b[43m]\u001b[49m\u001b[43m,\u001b[49m\n\u001b[32m     64\u001b[39m \u001b[43m        \u001b[49m\u001b[43mopacity\u001b[49m\u001b[43m=\u001b[49m\u001b[32;43m0.3\u001b[39;49m\u001b[43m,\u001b[49m\u001b[43m  \u001b[49m\u001b[38;5;66;43;03m# tăng độ đậm\u001b[39;49;00m\n\u001b[32m     65\u001b[39m \u001b[43m        \u001b[49m\u001b[43mlayer\u001b[49m\u001b[43m=\u001b[49m\u001b[33;43m\"\u001b[39;49m\u001b[33;43mbelow\u001b[39;49m\u001b[33;43m\"\u001b[39;49m\u001b[43m,\u001b[49m\n\u001b[32m     66\u001b[39m \u001b[43m        \u001b[49m\u001b[43mline_width\u001b[49m\u001b[43m=\u001b[49m\u001b[32;43m0\u001b[39;49m\u001b[43m,\u001b[49m\n\u001b[32m     67\u001b[39m \u001b[43m        \u001b[49m\u001b[43mannotation_text\u001b[49m\u001b[43m=\u001b[49m\u001b[43mwc\u001b[49m\u001b[43m[\u001b[49m\u001b[33;43m\"\u001b[39;49m\u001b[33;43mlabel\u001b[39;49m\u001b[33;43m\"\u001b[39;49m\u001b[43m]\u001b[49m\u001b[43m,\u001b[49m\n\u001b[32m     68\u001b[39m \u001b[43m        \u001b[49m\u001b[43mannotation_position\u001b[49m\u001b[43m=\u001b[49m\u001b[33;43m\"\u001b[39;49m\u001b[33;43mtop left\u001b[39;49m\u001b[33;43m\"\u001b[39;49m\u001b[43m,\u001b[49m\n\u001b[32m     69\u001b[39m \u001b[43m        \u001b[49m\u001b[43mannotation\u001b[49m\u001b[43m=\u001b[49m\u001b[38;5;28;43mdict\u001b[39;49m\u001b[43m(\u001b[49m\u001b[43mfont_size\u001b[49m\u001b[43m=\u001b[49m\u001b[32;43m12\u001b[39;49m\u001b[43m,\u001b[49m\u001b[43m \u001b[49m\u001b[43mfont_color\u001b[49m\u001b[43m=\u001b[49m\u001b[33;43m\"\u001b[39;49m\u001b[33;43mblack\u001b[39;49m\u001b[33;43m\"\u001b[39;49m\u001b[43m,\u001b[49m\u001b[43m \u001b[49m\u001b[43mfont_face\u001b[49m\u001b[43m=\u001b[49m\u001b[33;43m\"\u001b[39;49m\u001b[33;43mbold\u001b[39;49m\u001b[33;43m\"\u001b[39;49m\u001b[43m)\u001b[49m\u001b[43m,\u001b[49m\n\u001b[32m     70\u001b[39m \u001b[43m    \u001b[49m\u001b[43m)\u001b[49m\n\u001b[32m     73\u001b[39m \u001b[38;5;66;03m# Thêm legend (trace ẩn cho mỗi loại gió)\u001b[39;00m\n\u001b[32m     74\u001b[39m \u001b[38;5;28;01mfor\u001b[39;00m wc \u001b[38;5;129;01min\u001b[39;00m thresholds:\n",
      "\u001b[36mFile \u001b[39m\u001b[32mc:\\Users\\DELL\\AppData\\Local\\Programs\\Python\\Python311\\Lib\\site-packages\\plotly\\graph_objs\\_figure.py:581\u001b[39m, in \u001b[36mFigure.add_vrect\u001b[39m\u001b[34m(self, x0, x1, row, col, exclude_empty_subplots, annotation, **kwargs)\u001b[39m\n\u001b[32m    529\u001b[39m \u001b[38;5;28;01mdef\u001b[39;00m\u001b[38;5;250m \u001b[39m\u001b[34madd_vrect\u001b[39m(\n\u001b[32m    530\u001b[39m     \u001b[38;5;28mself\u001b[39m,\n\u001b[32m    531\u001b[39m     x0,\n\u001b[32m   (...)\u001b[39m\u001b[32m    537\u001b[39m     **kwargs,\n\u001b[32m    538\u001b[39m ) -> \u001b[33m\"\u001b[39m\u001b[33mFigure\u001b[39m\u001b[33m\"\u001b[39m:\n\u001b[32m    539\u001b[39m \u001b[38;5;250m    \u001b[39m\u001b[33;03m\"\"\"\u001b[39;00m\n\u001b[32m    540\u001b[39m \n\u001b[32m    541\u001b[39m \u001b[33;03m    Add a rectangle to a plot or subplot that extends infinitely in the\u001b[39;00m\n\u001b[32m   (...)\u001b[39m\u001b[32m    579\u001b[39m \u001b[33;03m        except for x0, x1, y0, y1 or type.\u001b[39;00m\n\u001b[32m    580\u001b[39m \u001b[33;03m    \"\"\"\u001b[39;00m\n\u001b[32m--> \u001b[39m\u001b[32m581\u001b[39m     \u001b[38;5;28;01mreturn\u001b[39;00m \u001b[38;5;28;43msuper\u001b[39;49m\u001b[43m(\u001b[49m\u001b[43m)\u001b[49m\u001b[43m.\u001b[49m\u001b[43madd_vrect\u001b[49m\u001b[43m(\u001b[49m\n\u001b[32m    582\u001b[39m \u001b[43m        \u001b[49m\u001b[43mx0\u001b[49m\u001b[43m,\u001b[49m\u001b[43m \u001b[49m\u001b[43mx1\u001b[49m\u001b[43m,\u001b[49m\u001b[43m \u001b[49m\u001b[43mrow\u001b[49m\u001b[43m,\u001b[49m\u001b[43m \u001b[49m\u001b[43mcol\u001b[49m\u001b[43m,\u001b[49m\u001b[43m \u001b[49m\u001b[43mexclude_empty_subplots\u001b[49m\u001b[43m,\u001b[49m\u001b[43m \u001b[49m\u001b[43mannotation\u001b[49m\u001b[43m,\u001b[49m\u001b[43m \u001b[49m\u001b[43m*\u001b[49m\u001b[43m*\u001b[49m\u001b[43mkwargs\u001b[49m\n\u001b[32m    583\u001b[39m \u001b[43m    \u001b[49m\u001b[43m)\u001b[49m\n",
      "\u001b[36mFile \u001b[39m\u001b[32mc:\\Users\\DELL\\AppData\\Local\\Programs\\Python\\Python311\\Lib\\site-packages\\plotly\\basedatatypes.py:4203\u001b[39m, in \u001b[36mBaseFigure.add_vrect\u001b[39m\u001b[34m(self, x0, x1, row, col, exclude_empty_subplots, annotation, **kwargs)\u001b[39m\n\u001b[32m   4193\u001b[39m \u001b[38;5;28;01mdef\u001b[39;00m\u001b[38;5;250m \u001b[39m\u001b[34madd_vrect\u001b[39m(\n\u001b[32m   4194\u001b[39m     \u001b[38;5;28mself\u001b[39m,\n\u001b[32m   4195\u001b[39m     x0,\n\u001b[32m   (...)\u001b[39m\u001b[32m   4201\u001b[39m     **kwargs,\n\u001b[32m   4202\u001b[39m ):\n\u001b[32m-> \u001b[39m\u001b[32m4203\u001b[39m     \u001b[38;5;28;43mself\u001b[39;49m\u001b[43m.\u001b[49m\u001b[43m_process_multiple_axis_spanning_shapes\u001b[49m\u001b[43m(\u001b[49m\n\u001b[32m   4204\u001b[39m \u001b[43m        \u001b[49m\u001b[38;5;28;43mdict\u001b[39;49m\u001b[43m(\u001b[49m\u001b[38;5;28;43mtype\u001b[39;49m\u001b[43m=\u001b[49m\u001b[33;43m\"\u001b[39;49m\u001b[33;43mrect\u001b[39;49m\u001b[33;43m\"\u001b[39;49m\u001b[43m,\u001b[49m\u001b[43m \u001b[49m\u001b[43mx0\u001b[49m\u001b[43m=\u001b[49m\u001b[43mx0\u001b[49m\u001b[43m,\u001b[49m\u001b[43m \u001b[49m\u001b[43mx1\u001b[49m\u001b[43m=\u001b[49m\u001b[43mx1\u001b[49m\u001b[43m,\u001b[49m\u001b[43m \u001b[49m\u001b[43my0\u001b[49m\u001b[43m=\u001b[49m\u001b[32;43m0\u001b[39;49m\u001b[43m,\u001b[49m\u001b[43m \u001b[49m\u001b[43my1\u001b[49m\u001b[43m=\u001b[49m\u001b[32;43m1\u001b[39;49m\u001b[43m)\u001b[49m\u001b[43m,\u001b[49m\n\u001b[32m   4205\u001b[39m \u001b[43m        \u001b[49m\u001b[43mrow\u001b[49m\u001b[43m,\u001b[49m\n\u001b[32m   4206\u001b[39m \u001b[43m        \u001b[49m\u001b[43mcol\u001b[49m\u001b[43m,\u001b[49m\n\u001b[32m   4207\u001b[39m \u001b[43m        \u001b[49m\u001b[33;43m\"\u001b[39;49m\u001b[33;43mvrect\u001b[39;49m\u001b[33;43m\"\u001b[39;49m\u001b[43m,\u001b[49m\n\u001b[32m   4208\u001b[39m \u001b[43m        \u001b[49m\u001b[43mexclude_empty_subplots\u001b[49m\u001b[43m=\u001b[49m\u001b[43mexclude_empty_subplots\u001b[49m\u001b[43m,\u001b[49m\n\u001b[32m   4209\u001b[39m \u001b[43m        \u001b[49m\u001b[43mannotation\u001b[49m\u001b[43m=\u001b[49m\u001b[43mannotation\u001b[49m\u001b[43m,\u001b[49m\n\u001b[32m   4210\u001b[39m \u001b[43m        \u001b[49m\u001b[43m*\u001b[49m\u001b[43m*\u001b[49m\u001b[43mkwargs\u001b[49m\u001b[43m,\u001b[49m\n\u001b[32m   4211\u001b[39m \u001b[43m    \u001b[49m\u001b[43m)\u001b[49m\n\u001b[32m   4212\u001b[39m     \u001b[38;5;28;01mreturn\u001b[39;00m \u001b[38;5;28mself\u001b[39m\n",
      "\u001b[36mFile \u001b[39m\u001b[32mc:\\Users\\DELL\\AppData\\Local\\Programs\\Python\\Python311\\Lib\\site-packages\\plotly\\basedatatypes.py:4103\u001b[39m, in \u001b[36mBaseFigure._process_multiple_axis_spanning_shapes\u001b[39m\u001b[34m(self, shape_args, row, col, shape_type, exclude_empty_subplots, annotation, **kwargs)\u001b[39m\n\u001b[32m   4096\u001b[39m \u001b[38;5;28mself\u001b[39m.add_shape(\n\u001b[32m   4097\u001b[39m     row=row,\n\u001b[32m   4098\u001b[39m     col=col,\n\u001b[32m   4099\u001b[39m     exclude_empty_subplots=exclude_empty_subplots,\n\u001b[32m   4100\u001b[39m     **_combine_dicts([shape_args, shape_kwargs]),\n\u001b[32m   4101\u001b[39m )\n\u001b[32m   4102\u001b[39m \u001b[38;5;28;01mif\u001b[39;00m augmented_annotation \u001b[38;5;129;01mis\u001b[39;00m \u001b[38;5;129;01mnot\u001b[39;00m \u001b[38;5;28;01mNone\u001b[39;00m:\n\u001b[32m-> \u001b[39m\u001b[32m4103\u001b[39m     \u001b[38;5;28;43mself\u001b[39;49m\u001b[43m.\u001b[49m\u001b[43madd_annotation\u001b[49m\u001b[43m(\u001b[49m\n\u001b[32m   4104\u001b[39m \u001b[43m        \u001b[49m\u001b[43maugmented_annotation\u001b[49m\u001b[43m,\u001b[49m\n\u001b[32m   4105\u001b[39m \u001b[43m        \u001b[49m\u001b[43mrow\u001b[49m\u001b[43m=\u001b[49m\u001b[43mrow\u001b[49m\u001b[43m,\u001b[49m\n\u001b[32m   4106\u001b[39m \u001b[43m        \u001b[49m\u001b[43mcol\u001b[49m\u001b[43m=\u001b[49m\u001b[43mcol\u001b[49m\u001b[43m,\u001b[49m\n\u001b[32m   4107\u001b[39m \u001b[43m        \u001b[49m\u001b[43mexclude_empty_subplots\u001b[49m\u001b[43m=\u001b[49m\u001b[43mexclude_empty_subplots\u001b[49m\u001b[43m,\u001b[49m\n\u001b[32m   4108\u001b[39m \u001b[43m        \u001b[49m\u001b[43myref\u001b[49m\u001b[43m=\u001b[49m\u001b[43mshape_kwargs\u001b[49m\u001b[43m.\u001b[49m\u001b[43mget\u001b[49m\u001b[43m(\u001b[49m\u001b[33;43m\"\u001b[39;49m\u001b[33;43myref\u001b[39;49m\u001b[33;43m\"\u001b[39;49m\u001b[43m,\u001b[49m\u001b[43m \u001b[49m\u001b[33;43m\"\u001b[39;49m\u001b[33;43my\u001b[39;49m\u001b[33;43m\"\u001b[39;49m\u001b[43m)\u001b[49m\u001b[43m,\u001b[49m\n\u001b[32m   4109\u001b[39m \u001b[43m    \u001b[49m\u001b[43m)\u001b[49m\n\u001b[32m   4110\u001b[39m \u001b[38;5;66;03m# update xref and yref for the new shapes and annotations\u001b[39;00m\n\u001b[32m   4111\u001b[39m \u001b[38;5;28;01mfor\u001b[39;00m layout_obj, n_layout_objs_before \u001b[38;5;129;01min\u001b[39;00m \u001b[38;5;28mzip\u001b[39m(\n\u001b[32m   4112\u001b[39m     [\u001b[33m\"\u001b[39m\u001b[33mshapes\u001b[39m\u001b[33m\"\u001b[39m, \u001b[33m\"\u001b[39m\u001b[33mannotations\u001b[39m\u001b[33m\"\u001b[39m], [n_shapes_before, n_annotations_before]\n\u001b[32m   4113\u001b[39m ):\n",
      "\u001b[36mFile \u001b[39m\u001b[32mc:\\Users\\DELL\\AppData\\Local\\Programs\\Python\\Python311\\Lib\\site-packages\\plotly\\graph_objs\\_figure.py:23305\u001b[39m, in \u001b[36mFigure.add_annotation\u001b[39m\u001b[34m(self, arg, align, arrowcolor, arrowhead, arrowside, arrowsize, arrowwidth, ax, axref, ay, ayref, bgcolor, bordercolor, borderpad, borderwidth, captureevents, clicktoshow, font, height, hoverlabel, hovertext, name, opacity, showarrow, standoff, startarrowhead, startarrowsize, startstandoff, templateitemname, text, textangle, valign, visible, width, x, xanchor, xclick, xref, xshift, y, yanchor, yclick, yref, yshift, row, col, secondary_y, exclude_empty_subplots, **kwargs)\u001b[39m\n\u001b[32m  23000\u001b[39m \u001b[38;5;250m\u001b[39m\u001b[33;03m\"\"\"\u001b[39;00m\n\u001b[32m  23001\u001b[39m \u001b[33;03mCreate and add a new annotation to the figure's layout\u001b[39;00m\n\u001b[32m  23002\u001b[39m \n\u001b[32m   (...)\u001b[39m\u001b[32m  23301\u001b[39m \u001b[33;03mFigure\u001b[39;00m\n\u001b[32m  23302\u001b[39m \u001b[33;03m\"\"\"\u001b[39;00m\n\u001b[32m  23303\u001b[39m \u001b[38;5;28;01mfrom\u001b[39;00m\u001b[38;5;250m \u001b[39m\u001b[34;01mplotly\u001b[39;00m\u001b[34;01m.\u001b[39;00m\u001b[34;01mgraph_objs\u001b[39;00m\u001b[38;5;250m \u001b[39m\u001b[38;5;28;01mimport\u001b[39;00m layout \u001b[38;5;28;01mas\u001b[39;00m _layout\n\u001b[32m> \u001b[39m\u001b[32m23305\u001b[39m new_obj = \u001b[43m_layout\u001b[49m\u001b[43m.\u001b[49m\u001b[43mAnnotation\u001b[49m\u001b[43m(\u001b[49m\n\u001b[32m  23306\u001b[39m \u001b[43m    \u001b[49m\u001b[43marg\u001b[49m\u001b[43m,\u001b[49m\n\u001b[32m  23307\u001b[39m \u001b[43m    \u001b[49m\u001b[43malign\u001b[49m\u001b[43m=\u001b[49m\u001b[43malign\u001b[49m\u001b[43m,\u001b[49m\n\u001b[32m  23308\u001b[39m \u001b[43m    \u001b[49m\u001b[43marrowcolor\u001b[49m\u001b[43m=\u001b[49m\u001b[43marrowcolor\u001b[49m\u001b[43m,\u001b[49m\n\u001b[32m  23309\u001b[39m \u001b[43m    \u001b[49m\u001b[43marrowhead\u001b[49m\u001b[43m=\u001b[49m\u001b[43marrowhead\u001b[49m\u001b[43m,\u001b[49m\n\u001b[32m  23310\u001b[39m \u001b[43m    \u001b[49m\u001b[43marrowside\u001b[49m\u001b[43m=\u001b[49m\u001b[43marrowside\u001b[49m\u001b[43m,\u001b[49m\n\u001b[32m  23311\u001b[39m \u001b[43m    \u001b[49m\u001b[43marrowsize\u001b[49m\u001b[43m=\u001b[49m\u001b[43marrowsize\u001b[49m\u001b[43m,\u001b[49m\n\u001b[32m  23312\u001b[39m \u001b[43m    \u001b[49m\u001b[43marrowwidth\u001b[49m\u001b[43m=\u001b[49m\u001b[43marrowwidth\u001b[49m\u001b[43m,\u001b[49m\n\u001b[32m  23313\u001b[39m \u001b[43m    \u001b[49m\u001b[43max\u001b[49m\u001b[43m=\u001b[49m\u001b[43max\u001b[49m\u001b[43m,\u001b[49m\n\u001b[32m  23314\u001b[39m \u001b[43m    \u001b[49m\u001b[43maxref\u001b[49m\u001b[43m=\u001b[49m\u001b[43maxref\u001b[49m\u001b[43m,\u001b[49m\n\u001b[32m  23315\u001b[39m \u001b[43m    \u001b[49m\u001b[43may\u001b[49m\u001b[43m=\u001b[49m\u001b[43may\u001b[49m\u001b[43m,\u001b[49m\n\u001b[32m  23316\u001b[39m \u001b[43m    \u001b[49m\u001b[43mayref\u001b[49m\u001b[43m=\u001b[49m\u001b[43mayref\u001b[49m\u001b[43m,\u001b[49m\n\u001b[32m  23317\u001b[39m \u001b[43m    \u001b[49m\u001b[43mbgcolor\u001b[49m\u001b[43m=\u001b[49m\u001b[43mbgcolor\u001b[49m\u001b[43m,\u001b[49m\n\u001b[32m  23318\u001b[39m \u001b[43m    \u001b[49m\u001b[43mbordercolor\u001b[49m\u001b[43m=\u001b[49m\u001b[43mbordercolor\u001b[49m\u001b[43m,\u001b[49m\n\u001b[32m  23319\u001b[39m \u001b[43m    \u001b[49m\u001b[43mborderpad\u001b[49m\u001b[43m=\u001b[49m\u001b[43mborderpad\u001b[49m\u001b[43m,\u001b[49m\n\u001b[32m  23320\u001b[39m \u001b[43m    \u001b[49m\u001b[43mborderwidth\u001b[49m\u001b[43m=\u001b[49m\u001b[43mborderwidth\u001b[49m\u001b[43m,\u001b[49m\n\u001b[32m  23321\u001b[39m \u001b[43m    \u001b[49m\u001b[43mcaptureevents\u001b[49m\u001b[43m=\u001b[49m\u001b[43mcaptureevents\u001b[49m\u001b[43m,\u001b[49m\n\u001b[32m  23322\u001b[39m \u001b[43m    \u001b[49m\u001b[43mclicktoshow\u001b[49m\u001b[43m=\u001b[49m\u001b[43mclicktoshow\u001b[49m\u001b[43m,\u001b[49m\n\u001b[32m  23323\u001b[39m \u001b[43m    \u001b[49m\u001b[43mfont\u001b[49m\u001b[43m=\u001b[49m\u001b[43mfont\u001b[49m\u001b[43m,\u001b[49m\n\u001b[32m  23324\u001b[39m \u001b[43m    \u001b[49m\u001b[43mheight\u001b[49m\u001b[43m=\u001b[49m\u001b[43mheight\u001b[49m\u001b[43m,\u001b[49m\n\u001b[32m  23325\u001b[39m \u001b[43m    \u001b[49m\u001b[43mhoverlabel\u001b[49m\u001b[43m=\u001b[49m\u001b[43mhoverlabel\u001b[49m\u001b[43m,\u001b[49m\n\u001b[32m  23326\u001b[39m \u001b[43m    \u001b[49m\u001b[43mhovertext\u001b[49m\u001b[43m=\u001b[49m\u001b[43mhovertext\u001b[49m\u001b[43m,\u001b[49m\n\u001b[32m  23327\u001b[39m \u001b[43m    \u001b[49m\u001b[43mname\u001b[49m\u001b[43m=\u001b[49m\u001b[43mname\u001b[49m\u001b[43m,\u001b[49m\n\u001b[32m  23328\u001b[39m \u001b[43m    \u001b[49m\u001b[43mopacity\u001b[49m\u001b[43m=\u001b[49m\u001b[43mopacity\u001b[49m\u001b[43m,\u001b[49m\n\u001b[32m  23329\u001b[39m \u001b[43m    \u001b[49m\u001b[43mshowarrow\u001b[49m\u001b[43m=\u001b[49m\u001b[43mshowarrow\u001b[49m\u001b[43m,\u001b[49m\n\u001b[32m  23330\u001b[39m \u001b[43m    \u001b[49m\u001b[43mstandoff\u001b[49m\u001b[43m=\u001b[49m\u001b[43mstandoff\u001b[49m\u001b[43m,\u001b[49m\n\u001b[32m  23331\u001b[39m \u001b[43m    \u001b[49m\u001b[43mstartarrowhead\u001b[49m\u001b[43m=\u001b[49m\u001b[43mstartarrowhead\u001b[49m\u001b[43m,\u001b[49m\n\u001b[32m  23332\u001b[39m \u001b[43m    \u001b[49m\u001b[43mstartarrowsize\u001b[49m\u001b[43m=\u001b[49m\u001b[43mstartarrowsize\u001b[49m\u001b[43m,\u001b[49m\n\u001b[32m  23333\u001b[39m \u001b[43m    \u001b[49m\u001b[43mstartstandoff\u001b[49m\u001b[43m=\u001b[49m\u001b[43mstartstandoff\u001b[49m\u001b[43m,\u001b[49m\n\u001b[32m  23334\u001b[39m \u001b[43m    \u001b[49m\u001b[43mtemplateitemname\u001b[49m\u001b[43m=\u001b[49m\u001b[43mtemplateitemname\u001b[49m\u001b[43m,\u001b[49m\n\u001b[32m  23335\u001b[39m \u001b[43m    \u001b[49m\u001b[43mtext\u001b[49m\u001b[43m=\u001b[49m\u001b[43mtext\u001b[49m\u001b[43m,\u001b[49m\n\u001b[32m  23336\u001b[39m \u001b[43m    \u001b[49m\u001b[43mtextangle\u001b[49m\u001b[43m=\u001b[49m\u001b[43mtextangle\u001b[49m\u001b[43m,\u001b[49m\n\u001b[32m  23337\u001b[39m \u001b[43m    \u001b[49m\u001b[43mvalign\u001b[49m\u001b[43m=\u001b[49m\u001b[43mvalign\u001b[49m\u001b[43m,\u001b[49m\n\u001b[32m  23338\u001b[39m \u001b[43m    \u001b[49m\u001b[43mvisible\u001b[49m\u001b[43m=\u001b[49m\u001b[43mvisible\u001b[49m\u001b[43m,\u001b[49m\n\u001b[32m  23339\u001b[39m \u001b[43m    \u001b[49m\u001b[43mwidth\u001b[49m\u001b[43m=\u001b[49m\u001b[43mwidth\u001b[49m\u001b[43m,\u001b[49m\n\u001b[32m  23340\u001b[39m \u001b[43m    \u001b[49m\u001b[43mx\u001b[49m\u001b[43m=\u001b[49m\u001b[43mx\u001b[49m\u001b[43m,\u001b[49m\n\u001b[32m  23341\u001b[39m \u001b[43m    \u001b[49m\u001b[43mxanchor\u001b[49m\u001b[43m=\u001b[49m\u001b[43mxanchor\u001b[49m\u001b[43m,\u001b[49m\n\u001b[32m  23342\u001b[39m \u001b[43m    \u001b[49m\u001b[43mxclick\u001b[49m\u001b[43m=\u001b[49m\u001b[43mxclick\u001b[49m\u001b[43m,\u001b[49m\n\u001b[32m  23343\u001b[39m \u001b[43m    \u001b[49m\u001b[43mxref\u001b[49m\u001b[43m=\u001b[49m\u001b[43mxref\u001b[49m\u001b[43m,\u001b[49m\n\u001b[32m  23344\u001b[39m \u001b[43m    \u001b[49m\u001b[43mxshift\u001b[49m\u001b[43m=\u001b[49m\u001b[43mxshift\u001b[49m\u001b[43m,\u001b[49m\n\u001b[32m  23345\u001b[39m \u001b[43m    \u001b[49m\u001b[43my\u001b[49m\u001b[43m=\u001b[49m\u001b[43my\u001b[49m\u001b[43m,\u001b[49m\n\u001b[32m  23346\u001b[39m \u001b[43m    \u001b[49m\u001b[43myanchor\u001b[49m\u001b[43m=\u001b[49m\u001b[43myanchor\u001b[49m\u001b[43m,\u001b[49m\n\u001b[32m  23347\u001b[39m \u001b[43m    \u001b[49m\u001b[43myclick\u001b[49m\u001b[43m=\u001b[49m\u001b[43myclick\u001b[49m\u001b[43m,\u001b[49m\n\u001b[32m  23348\u001b[39m \u001b[43m    \u001b[49m\u001b[43myref\u001b[49m\u001b[43m=\u001b[49m\u001b[43myref\u001b[49m\u001b[43m,\u001b[49m\n\u001b[32m  23349\u001b[39m \u001b[43m    \u001b[49m\u001b[43myshift\u001b[49m\u001b[43m=\u001b[49m\u001b[43myshift\u001b[49m\u001b[43m,\u001b[49m\n\u001b[32m  23350\u001b[39m \u001b[43m    \u001b[49m\u001b[43m*\u001b[49m\u001b[43m*\u001b[49m\u001b[43mkwargs\u001b[49m\u001b[43m,\u001b[49m\n\u001b[32m  23351\u001b[39m \u001b[43m\u001b[49m\u001b[43m)\u001b[49m\n\u001b[32m  23352\u001b[39m \u001b[38;5;28;01mreturn\u001b[39;00m \u001b[38;5;28mself\u001b[39m._add_annotation_like(\n\u001b[32m  23353\u001b[39m     \u001b[33m\"\u001b[39m\u001b[33mannotation\u001b[39m\u001b[33m\"\u001b[39m,\n\u001b[32m  23354\u001b[39m     \u001b[33m\"\u001b[39m\u001b[33mannotations\u001b[39m\u001b[33m\"\u001b[39m,\n\u001b[32m   (...)\u001b[39m\u001b[32m  23359\u001b[39m     exclude_empty_subplots=exclude_empty_subplots,\n\u001b[32m  23360\u001b[39m )\n",
      "\u001b[36mFile \u001b[39m\u001b[32mc:\\Users\\DELL\\AppData\\Local\\Programs\\Python\\Python311\\Lib\\site-packages\\plotly\\graph_objs\\layout\\_annotation.py:1716\u001b[39m, in \u001b[36mAnnotation.__init__\u001b[39m\u001b[34m(self, arg, align, arrowcolor, arrowhead, arrowside, arrowsize, arrowwidth, ax, axref, ay, ayref, bgcolor, bordercolor, borderpad, borderwidth, captureevents, clicktoshow, font, height, hoverlabel, hovertext, name, opacity, showarrow, standoff, startarrowhead, startarrowsize, startstandoff, templateitemname, text, textangle, valign, visible, width, x, xanchor, xclick, xref, xshift, y, yanchor, yclick, yref, yshift, **kwargs)\u001b[39m\n\u001b[32m   1714\u001b[39m \u001b[38;5;28mself\u001b[39m._set_property(\u001b[33m\"\u001b[39m\u001b[33myref\u001b[39m\u001b[33m\"\u001b[39m, arg, yref)\n\u001b[32m   1715\u001b[39m \u001b[38;5;28mself\u001b[39m._set_property(\u001b[33m\"\u001b[39m\u001b[33myshift\u001b[39m\u001b[33m\"\u001b[39m, arg, yshift)\n\u001b[32m-> \u001b[39m\u001b[32m1716\u001b[39m \u001b[38;5;28;43mself\u001b[39;49m\u001b[43m.\u001b[49m\u001b[43m_process_kwargs\u001b[49m\u001b[43m(\u001b[49m\u001b[43m*\u001b[49m\u001b[43m*\u001b[49m\u001b[38;5;28;43mdict\u001b[39;49m\u001b[43m(\u001b[49m\u001b[43marg\u001b[49m\u001b[43m,\u001b[49m\u001b[43m \u001b[49m\u001b[43m*\u001b[49m\u001b[43m*\u001b[49m\u001b[43mkwargs\u001b[49m\u001b[43m)\u001b[49m\u001b[43m)\u001b[49m\n\u001b[32m   1717\u001b[39m \u001b[38;5;28mself\u001b[39m._skip_invalid = \u001b[38;5;28;01mFalse\u001b[39;00m\n",
      "\u001b[36mFile \u001b[39m\u001b[32mc:\\Users\\DELL\\AppData\\Local\\Programs\\Python\\Python311\\Lib\\site-packages\\plotly\\basedatatypes.py:4451\u001b[39m, in \u001b[36mBasePlotlyType._process_kwargs\u001b[39m\u001b[34m(self, **kwargs)\u001b[39m\n\u001b[32m   4449\u001b[39m     \u001b[38;5;28mself\u001b[39m[k] = v\n\u001b[32m   4450\u001b[39m \u001b[38;5;28;01melif\u001b[39;00m \u001b[38;5;129;01mnot\u001b[39;00m \u001b[38;5;28mself\u001b[39m._skip_invalid:\n\u001b[32m-> \u001b[39m\u001b[32m4451\u001b[39m     \u001b[38;5;28;01mraise\u001b[39;00m err\n",
      "\u001b[31mValueError\u001b[39m: Invalid property specified for object of type plotly.graph_objs.layout.annotation.Font: 'face'\n\nDid you mean \"size\"?\n\n    Valid properties:\n        color\n\n        family\n            HTML font family - the typeface that will be applied by\n            the web browser. The web browser can only apply a font\n            if it is available on the system where it runs. Provide\n            multiple font families, separated by commas, to\n            indicate the order in which to apply fonts if they\n            aren't available.\n        lineposition\n            Sets the kind of decoration line(s) with text, such as\n            an \"under\", \"over\" or \"through\" as well as combinations\n            e.g. \"under+over\", etc.\n        shadow\n            Sets the shape and color of the shadow behind text.\n            \"auto\" places minimal shadow and applies contrast text\n            font color. See https://developer.mozilla.org/en-\n            US/docs/Web/CSS/text-shadow for additional options.\n        size\n\n        style\n            Sets whether a font should be styled with a normal or\n            italic face from its family.\n        textcase\n            Sets capitalization of text. It can be used to make\n            text appear in all-uppercase or all-lowercase, or with\n            each word capitalized.\n        variant\n            Sets the variant of the font.\n        weight\n            Sets the weight (or boldness) of the font.\n        \nDid you mean \"size\"?\n\nBad property path:\nfont_face\n     ^^^^"
     ]
    }
   ],
   "source": []
  }
 ],
 "metadata": {
  "kernelspec": {
   "display_name": "Python 3",
   "language": "python",
   "name": "python3"
  },
  "language_info": {
   "codemirror_mode": {
    "name": "ipython",
    "version": 3
   },
   "file_extension": ".py",
   "mimetype": "text/x-python",
   "name": "python",
   "nbconvert_exporter": "python",
   "pygments_lexer": "ipython3",
   "version": "3.11.3"
  }
 },
 "nbformat": 4,
 "nbformat_minor": 5
}
